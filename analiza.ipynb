{
 "cells": [
  {
   "cell_type": "markdown",
   "id": "606cc751",
   "metadata": {},
   "source": [
    "Analiza podatkov\n"
   ]
  },
  {
   "cell_type": "code",
   "execution_count": 12,
   "id": "dcda92e3",
   "metadata": {},
   "outputs": [],
   "source": [
    "import pandas as pd\n",
    "pd.options.display.max_rows = 20"
   ]
  },
  {
   "cell_type": "code",
   "execution_count": 13,
   "id": "48e94b8f",
   "metadata": {},
   "outputs": [
    {
     "data": {
      "text/html": [
       "<div>\n",
       "<style scoped>\n",
       "    .dataframe tbody tr th:only-of-type {\n",
       "        vertical-align: middle;\n",
       "    }\n",
       "\n",
       "    .dataframe tbody tr th {\n",
       "        vertical-align: top;\n",
       "    }\n",
       "\n",
       "    .dataframe thead th {\n",
       "        text-align: right;\n",
       "    }\n",
       "</style>\n",
       "<table border=\"1\" class=\"dataframe\">\n",
       "  <thead>\n",
       "    <tr style=\"text-align: right;\">\n",
       "      <th></th>\n",
       "      <th>naslov</th>\n",
       "      <th>cena</th>\n",
       "      <th>starost</th>\n",
       "      <th>proizvajalec</th>\n",
       "      <th>letnik</th>\n",
       "      <th>velikost okvirja</th>\n",
       "      <th>material</th>\n",
       "      <th>velikost obročev</th>\n",
       "      <th>dolžina opisa</th>\n",
       "      <th>kategorija</th>\n",
       "      <th>posodobljeno</th>\n",
       "      <th>ogledi</th>\n",
       "      <th>prava_cena</th>\n",
       "    </tr>\n",
       "  </thead>\n",
       "  <tbody>\n",
       "    <tr>\n",
       "      <th>0</th>\n",
       "      <td>Capra Core 2 2023</td>\n",
       "      <td>1.800 €</td>\n",
       "      <td>Rabljeno</td>\n",
       "      <td>YT</td>\n",
       "      <td>2023</td>\n",
       "      <td>L</td>\n",
       "      <td>Aluminij</td>\n",
       "      <td>29 col</td>\n",
       "      <td>407</td>\n",
       "      <td>Enduro kolesa</td>\n",
       "      <td>09.10.2025</td>\n",
       "      <td>47</td>\n",
       "      <td>1800.0</td>\n",
       "    </tr>\n",
       "    <tr>\n",
       "      <th>1</th>\n",
       "      <td>COMMENCAL CLASH RIDE 2021 LARGE</td>\n",
       "      <td>2.300 €</td>\n",
       "      <td>Rabljeno</td>\n",
       "      <td>Commencal</td>\n",
       "      <td>2021</td>\n",
       "      <td>L</td>\n",
       "      <td>Aluminij</td>\n",
       "      <td>27.5 col (650b)</td>\n",
       "      <td>1240</td>\n",
       "      <td>Enduro kolesa</td>\n",
       "      <td>26.09.2025</td>\n",
       "      <td>242</td>\n",
       "      <td>2300.0</td>\n",
       "    </tr>\n",
       "    <tr>\n",
       "      <th>2</th>\n",
       "      <td>specialized status</td>\n",
       "      <td>1.200 €</td>\n",
       "      <td>Rabljeno</td>\n",
       "      <td>Specialized</td>\n",
       "      <td>2020</td>\n",
       "      <td>L</td>\n",
       "      <td>Aluminij</td>\n",
       "      <td>Mullet (29 in 27.5)</td>\n",
       "      <td>462</td>\n",
       "      <td>Enduro kolesa</td>\n",
       "      <td>28.09.2025</td>\n",
       "      <td>276</td>\n",
       "      <td>1200.0</td>\n",
       "    </tr>\n",
       "    <tr>\n",
       "      <th>3</th>\n",
       "      <td>Bergamont roxter 8.0</td>\n",
       "      <td>550 €</td>\n",
       "      <td>Rabljeno</td>\n",
       "      <td>Bergamont</td>\n",
       "      <td>2020</td>\n",
       "      <td>S</td>\n",
       "      <td>Aluminij</td>\n",
       "      <td>27.5 col (650b)</td>\n",
       "      <td>97</td>\n",
       "      <td>Prednje vzmetena / XC kolesa</td>\n",
       "      <td>06.09.2025</td>\n",
       "      <td>129</td>\n",
       "      <td>550.0</td>\n",
       "    </tr>\n",
       "    <tr>\n",
       "      <th>4</th>\n",
       "      <td>Lapierre Spicy 7.9</td>\n",
       "      <td>2.300 €</td>\n",
       "      <td>Rabljeno</td>\n",
       "      <td>Lapierre</td>\n",
       "      <td>2020</td>\n",
       "      <td>M</td>\n",
       "      <td>Karbon</td>\n",
       "      <td>29 col</td>\n",
       "      <td>650</td>\n",
       "      <td>Enduro kolesa</td>\n",
       "      <td>16.09.2025</td>\n",
       "      <td>62</td>\n",
       "      <td>2300.0</td>\n",
       "    </tr>\n",
       "    <tr>\n",
       "      <th>...</th>\n",
       "      <td>...</td>\n",
       "      <td>...</td>\n",
       "      <td>...</td>\n",
       "      <td>...</td>\n",
       "      <td>...</td>\n",
       "      <td>...</td>\n",
       "      <td>...</td>\n",
       "      <td>...</td>\n",
       "      <td>...</td>\n",
       "      <td>...</td>\n",
       "      <td>...</td>\n",
       "      <td>...</td>\n",
       "      <td>...</td>\n",
       "    </tr>\n",
       "    <tr>\n",
       "      <th>883</th>\n",
       "      <td>specialized enduro 2019 29’</td>\n",
       "      <td>800 €</td>\n",
       "      <td>Rabljeno</td>\n",
       "      <td>Specialized</td>\n",
       "      <td>2019</td>\n",
       "      <td>L</td>\n",
       "      <td>Aluminij</td>\n",
       "      <td>29 col</td>\n",
       "      <td>909</td>\n",
       "      <td>Enduro kolesa</td>\n",
       "      <td>21.07.2025</td>\n",
       "      <td>905</td>\n",
       "      <td>800.0</td>\n",
       "    </tr>\n",
       "    <tr>\n",
       "      <th>884</th>\n",
       "      <td>Trek slash 7</td>\n",
       "      <td>1.750 €</td>\n",
       "      <td>Rabljeno</td>\n",
       "      <td>Trek</td>\n",
       "      <td>2022</td>\n",
       "      <td>M</td>\n",
       "      <td>Aluminij</td>\n",
       "      <td>29 col</td>\n",
       "      <td>119</td>\n",
       "      <td>Enduro kolesa</td>\n",
       "      <td>07.10.2025</td>\n",
       "      <td>399</td>\n",
       "      <td>1750.0</td>\n",
       "    </tr>\n",
       "    <tr>\n",
       "      <th>885</th>\n",
       "      <td>Giant Trance X 1 2021 M size</td>\n",
       "      <td>1.400 €</td>\n",
       "      <td>Rabljeno</td>\n",
       "      <td>Giant</td>\n",
       "      <td>2021</td>\n",
       "      <td>M</td>\n",
       "      <td>Aluminij</td>\n",
       "      <td>29 col</td>\n",
       "      <td>75</td>\n",
       "      <td>Gorska kolesa</td>\n",
       "      <td>21.07.2025</td>\n",
       "      <td>290</td>\n",
       "      <td>1400.0</td>\n",
       "    </tr>\n",
       "    <tr>\n",
       "      <th>886</th>\n",
       "      <td>Pivot Firebird</td>\n",
       "      <td>1.850 €</td>\n",
       "      <td>Rabljeno</td>\n",
       "      <td>Pivot</td>\n",
       "      <td>2018</td>\n",
       "      <td>L</td>\n",
       "      <td>Karbon</td>\n",
       "      <td>27.5 col (650b)</td>\n",
       "      <td>343</td>\n",
       "      <td>Trail in All-Mountain kolesa</td>\n",
       "      <td>26.09.2025</td>\n",
       "      <td>65</td>\n",
       "      <td>1850.0</td>\n",
       "    </tr>\n",
       "    <tr>\n",
       "      <th>887</th>\n",
       "      <td>Specialized Enduro</td>\n",
       "      <td>2.600 €</td>\n",
       "      <td>Rabljeno</td>\n",
       "      <td>Specialized</td>\n",
       "      <td>2020</td>\n",
       "      <td>M</td>\n",
       "      <td>Karbon</td>\n",
       "      <td>29 col</td>\n",
       "      <td>81</td>\n",
       "      <td>Enduro kolesa</td>\n",
       "      <td>31.08.2025</td>\n",
       "      <td>317</td>\n",
       "      <td>2600.0</td>\n",
       "    </tr>\n",
       "  </tbody>\n",
       "</table>\n",
       "<p>888 rows × 13 columns</p>\n",
       "</div>"
      ],
      "text/plain": [
       "                              naslov     cena   starost proizvajalec letnik  \\\n",
       "0                  Capra Core 2 2023  1.800 €  Rabljeno           YT   2023   \n",
       "1    COMMENCAL CLASH RIDE 2021 LARGE  2.300 €  Rabljeno    Commencal   2021   \n",
       "2                 specialized status  1.200 €  Rabljeno  Specialized   2020   \n",
       "3               Bergamont roxter 8.0    550 €  Rabljeno    Bergamont   2020   \n",
       "4                 Lapierre Spicy 7.9  2.300 €  Rabljeno     Lapierre   2020   \n",
       "..                               ...      ...       ...          ...    ...   \n",
       "883      specialized enduro 2019 29’    800 €  Rabljeno  Specialized   2019   \n",
       "884                     Trek slash 7  1.750 €  Rabljeno         Trek   2022   \n",
       "885     Giant Trance X 1 2021 M size  1.400 €  Rabljeno        Giant   2021   \n",
       "886                   Pivot Firebird  1.850 €  Rabljeno        Pivot   2018   \n",
       "887               Specialized Enduro  2.600 €  Rabljeno  Specialized   2020   \n",
       "\n",
       "    velikost okvirja  material     velikost obročev  dolžina opisa  \\\n",
       "0                  L  Aluminij               29 col            407   \n",
       "1                  L  Aluminij      27.5 col (650b)           1240   \n",
       "2                  L  Aluminij  Mullet (29 in 27.5)            462   \n",
       "3                  S  Aluminij      27.5 col (650b)             97   \n",
       "4                  M    Karbon               29 col            650   \n",
       "..               ...       ...                  ...            ...   \n",
       "883                L  Aluminij               29 col            909   \n",
       "884                M  Aluminij               29 col            119   \n",
       "885                M  Aluminij               29 col             75   \n",
       "886                L    Karbon      27.5 col (650b)            343   \n",
       "887                M    Karbon               29 col             81   \n",
       "\n",
       "                       kategorija posodobljeno  ogledi  prava_cena  \n",
       "0                   Enduro kolesa   09.10.2025      47      1800.0  \n",
       "1                   Enduro kolesa   26.09.2025     242      2300.0  \n",
       "2                   Enduro kolesa   28.09.2025     276      1200.0  \n",
       "3    Prednje vzmetena / XC kolesa   06.09.2025     129       550.0  \n",
       "4                   Enduro kolesa   16.09.2025      62      2300.0  \n",
       "..                            ...          ...     ...         ...  \n",
       "883                 Enduro kolesa   21.07.2025     905       800.0  \n",
       "884                 Enduro kolesa   07.10.2025     399      1750.0  \n",
       "885                 Gorska kolesa   21.07.2025     290      1400.0  \n",
       "886  Trail in All-Mountain kolesa   26.09.2025      65      1850.0  \n",
       "887                 Enduro kolesa   31.08.2025     317      2600.0  \n",
       "\n",
       "[888 rows x 13 columns]"
      ]
     },
     "execution_count": 13,
     "metadata": {},
     "output_type": "execute_result"
    }
   ],
   "source": [
    "vsi_podatki = pd.read_csv(\"tabele/bike_podatki.csv\")\n",
    "cene = vsi_podatki[\"cena\"]\n",
    "prave_cene = []\n",
    "for c in cene:\n",
    "    c = c[:-2]\n",
    "    if \".\" in c:\n",
    "        c = c.split(\".\")\n",
    "        c = c[0] + c[1]\n",
    "    try:\n",
    "        c = int(c)\n",
    "    except ValueError:\n",
    "        c = None\n",
    "    prave_cene.append(c)\n",
    "vsi_podatki[\"prava_cena\"] = prave_cene\n",
    "vsi_podatki"
   ]
  },
  {
   "cell_type": "markdown",
   "id": "5b567c24",
   "metadata": {},
   "source": [
    "Povprečna cena po kategorijah:"
   ]
  },
  {
   "cell_type": "code",
   "execution_count": 16,
   "id": "a4557161",
   "metadata": {},
   "outputs": [
    {
     "data": {
      "text/plain": [
       "kategorija\n",
       "Downhill in Freeride kolesa     1985.55\n",
       "Enduro kolesa                   1978.20\n",
       "Trail in All-Mountain kolesa    1674.97\n",
       "Gorska kolesa                   1208.65\n",
       "Prednje vzmetena / XC kolesa     931.00\n",
       "Name: prava_cena, dtype: float64"
      ]
     },
     "execution_count": 16,
     "metadata": {},
     "output_type": "execute_result"
    }
   ],
   "source": [
    "kolesa_po_kategorijah = vsi_podatki.groupby(\"kategorija\")\n",
    "\n",
    "povprecje_kategorije = kolesa_po_kategorijah.prava_cena.mean().round(2).sort_values(ascending=False)\n",
    "povprecje_kategorije"
   ]
  },
  {
   "cell_type": "markdown",
   "id": "6938effd",
   "metadata": {},
   "source": [
    "Povprečna cena po materialu:"
   ]
  },
  {
   "cell_type": "code",
   "execution_count": null,
   "id": "87da86fb",
   "metadata": {},
   "outputs": [
    {
     "data": {
      "text/plain": [
       "<Axes: ylabel='prava_cena'>"
      ]
     },
     "execution_count": 55,
     "metadata": {},
     "output_type": "execute_result"
    },
    {
     "data": {
      "image/png": "[encoded data removed]",
      "text/plain": [
       "<Figure size 640x480 with 1 Axes>"
      ]
     },
     "metadata": {},
     "output_type": "display_data"
    }
   ],
   "source": [
    "kolesa_po_materialu = vsi_podatki.groupby(\"material\")\n",
    "x = kolesa_po_materialu.prava_cena.mean().round(2).sort_values(ascending=False)\n",
    "ax = x.plot(kind=\"pie\", autopct='%.1f%%')  \n",
    "ax"
   ]
  },
  {
   "cell_type": "markdown",
   "id": "251719df",
   "metadata": {},
   "source": [
    "Povprečna cena po velikosti:"
   ]
  },
  {
   "cell_type": "code",
   "execution_count": 18,
   "id": "688d26db",
   "metadata": {},
   "outputs": [
    {
     "data": {
      "text/plain": [
       "velikost okvirja\n",
       "Na voljo v več velikostih    3940.38\n",
       "L                            1939.28\n",
       "XL                           1654.02\n",
       "XXL                          1583.00\n",
       "M                            1469.15\n",
       "Rabljeno                     1422.00\n",
       "S                            1178.12\n",
       "XXS                           970.00\n",
       "XS                            711.54\n",
       "Univerzalna velikost          289.09\n",
       "Name: prava_cena, dtype: float64"
      ]
     },
     "execution_count": 18,
     "metadata": {},
     "output_type": "execute_result"
    }
   ],
   "source": [
    "kolesa_po_velikosti = vsi_podatki.groupby(\"velikost okvirja\")\n",
    "kolesa_po_velikosti.prava_cena.mean().round(2).sort_values(ascending=False)"
   ]
  },
  {
   "cell_type": "markdown",
   "id": "80a41891",
   "metadata": {},
   "source": [
    "Povprečna cena po proizvajalcih:"
   ]
  },
  {
   "cell_type": "code",
   "execution_count": 19,
   "id": "408882fc",
   "metadata": {},
   "outputs": [
    {
     "data": {
      "text/plain": [
       "proizvajalec\n",
       "Ibis           4559.12\n",
       "Yeti           3560.00\n",
       "Intense        3500.00\n",
       "Santa Cruz     2991.36\n",
       "Pivot          2922.80\n",
       "                ...   \n",
       "Schwinn         450.00\n",
       "Nakamura        260.00\n",
       "Haibike         255.00\n",
       "Cult            255.00\n",
       "Gary Fisher     226.67\n",
       "Name: prava_cena, Length: 45, dtype: float64"
      ]
     },
     "execution_count": 19,
     "metadata": {},
     "output_type": "execute_result"
    }
   ],
   "source": [
    "kolesa_po_proizvajalcih = vsi_podatki.groupby(\"proizvajalec\")\n",
    "kolesa_po_proizvajalcih.prava_cena.mean().round(2).sort_values(ascending=False)"
   ]
  },
  {
   "cell_type": "markdown",
   "id": "b8458403",
   "metadata": {},
   "source": [
    "koliko koles je v katerem cenovnem razredu (po 500)"
   ]
  },
  {
   "cell_type": "code",
   "execution_count": 21,
   "id": "ad29a573",
   "metadata": {},
   "outputs": [
    {
     "data": {
      "text/plain": [
       "cenovni_razred\n",
       "0.0       105\n",
       "500.0     161\n",
       "1000.0    166\n",
       "1500.0    190\n",
       "2000.0     96\n",
       "2500.0     63\n",
       "3000.0     40\n",
       "3500.0     24\n",
       "4000.0     12\n",
       "4500.0      9\n",
       "5000.0      5\n",
       "5500.0      3\n",
       "6000.0      1\n",
       "6500.0      1\n",
       "7000.0      2\n",
       "dtype: int64"
      ]
     },
     "execution_count": 21,
     "metadata": {},
     "output_type": "execute_result"
    }
   ],
   "source": [
    "vsi_podatki[\"cenovni_razred\"] = (vsi_podatki[\"prava_cena\"]//500)*500\n",
    "kolesa_po_razredih = vsi_podatki.groupby(\"cenovni_razred\")\n",
    "kolesa_po_razredih.size()"
   ]
  },
  {
   "cell_type": "markdown",
   "id": "d8d00975",
   "metadata": {},
   "source": [
    "Kakšna je pa dolžina opisa, glede na cenovni razred? So opisi daljši za dražja kolesa?"
   ]
  },
  {
   "cell_type": "code",
   "execution_count": 24,
   "id": "ef47b439",
   "metadata": {},
   "outputs": [
    {
     "data": {
      "text/plain": [
       "cenovni_razred\n",
       "7000.0    2452.500000\n",
       "6500.0    1983.000000\n",
       "5500.0    1030.000000\n",
       "6000.0     977.000000\n",
       "4500.0     911.222222\n",
       "5000.0     826.400000\n",
       "3500.0     682.625000\n",
       "4000.0     634.583333\n",
       "3000.0     634.225000\n",
       "1500.0     584.205263\n",
       "2500.0     546.650794\n",
       "2000.0     513.208333\n",
       "1000.0     426.698795\n",
       "500.0      365.571429\n",
       "0.0        223.266667\n",
       "Name: dolžina opisa, dtype: float64"
      ]
     },
     "execution_count": 24,
     "metadata": {},
     "output_type": "execute_result"
    }
   ],
   "source": [
    "opis_po_razredih = kolesa_po_razredih[\"dolžina opisa\"].mean().sort_values(ascending=False)\n",
    "opis_po_razredih"
   ]
  },
  {
   "cell_type": "markdown",
   "id": "316ba39a",
   "metadata": {},
   "source": [
    "Število ogledov povezano s ceno (ker so dragi zanimivi) ali z dolžino opisa?"
   ]
  },
  {
   "cell_type": "code",
   "execution_count": 23,
   "id": "17efdc5f",
   "metadata": {},
   "outputs": [
    {
     "data": {
      "text/plain": [
       "cenovni_razred\n",
       "6500.0    574.000000\n",
       "4000.0    396.250000\n",
       "5000.0    382.800000\n",
       "2000.0    300.166667\n",
       "3000.0    286.900000\n",
       "500.0     278.826087\n",
       "2500.0    276.301587\n",
       "1000.0    263.030120\n",
       "1500.0    236.615789\n",
       "3500.0    228.291667\n",
       "4500.0    198.333333\n",
       "7000.0    192.500000\n",
       "0.0       186.142857\n",
       "5500.0    186.000000\n",
       "6000.0    162.000000\n",
       "Name: ogledi, dtype: float64"
      ]
     },
     "execution_count": 23,
     "metadata": {},
     "output_type": "execute_result"
    }
   ],
   "source": [
    "ogledi_po_razredih = kolesa_po_razredih.ogledi.mean().sort_values(ascending=False)\n",
    "ogledi_po_razredih"
   ]
  },
  {
   "cell_type": "markdown",
   "id": "5cd0bbb9",
   "metadata": {},
   "source": [
    "Poglejmo skupen graf ogledov in dolžine opisa, kako (če sploh) vpliva dolžina opisa na število ogledov. Predvidevam, da daljši opis prinese več ogledov. "
   ]
  },
  {
   "cell_type": "code",
   "execution_count": null,
   "id": "dc618823",
   "metadata": {},
   "outputs": [
    {
     "data": {
      "text/plain": [
       "<Axes: xlabel='cenovni_razred'>"
      ]
     },
     "execution_count": 29,
     "metadata": {},
     "output_type": "execute_result"
    },
    {
     "data": {
      "image/png": "[encoded data removed]",
      "text/plain": [
       "<Figure size 640x480 with 1 Axes>"
      ]
     },
     "metadata": {},
     "output_type": "display_data"
    }
   ],
   "source": [
    "ogledi_in_opis_po_razredih = pd.merge( ogledi_po_razredih, opis_po_razredih, on=\"cenovni_razred\").round(0)\n",
    "\n",
    "ogledi_in_opis_po_razredih.plot(kind=\"bar\")"
   ]
  },
  {
   "cell_type": "markdown",
   "id": "ef372a75",
   "metadata": {},
   "source": [
    "zgleda da ni prave koleracije med številom ogledov in dolžino opisa. So pa oglasi različno stari, imamo samo podatek zadne posodobitve (ki je lahko prva lahko pa ne) dodajmo \"indeks starosti-ogledov\", ki ga definirajmo kot ogledi/starost"
   ]
  },
  {
   "cell_type": "code",
   "execution_count": 51,
   "id": "fa8bdd00",
   "metadata": {},
   "outputs": [
    {
     "data": {
      "text/plain": [
       "<Axes: title={'center': 'Indeksi po cenovnih razredih (opis deljen s 100)'}, xlabel='Cenovni razred', ylabel='Vrednosti'>"
      ]
     },
     "execution_count": 51,
     "metadata": {},
     "output_type": "execute_result"
    },
    {
     "data": {
      "image/png": "[encoded data removed]",
      "text/plain": [
       "<Figure size 640x480 with 1 Axes>"
      ]
     },
     "metadata": {},
     "output_type": "display_data"
    }
   ],
   "source": [
    "vsi_podatki['posodobljeno'] = pd.to_datetime(vsi_podatki['posodobljeno'], format='%d.%m.%Y')\n",
    "referencni_datum = pd.to_datetime('20.10.2025', format='%d.%m.%Y')\n",
    "vsi_podatki[\"starost\"] = (referencni_datum - vsi_podatki[\"posodobljeno\"]).dt.days\n",
    "#vsi_podatki[[\"posodobljeno\",\"starost\"]]\n",
    "vsi_podatki[\"indeks ogledov/starost\"] = vsi_podatki[\"ogledi\"] / vsi_podatki[\"starost\"]\n",
    "#vsi_podatki[\"indeks ogledov/starost\"]\n",
    "indeks_po_razredih = vsi_podatki.groupby(\"cenovni_razred\")[\"indeks ogledov/starost\"].mean().sort_values(ascending=False)\n",
    "\n",
    "ax = pd.merge(opis_po_razredih/100,indeks_po_razredih, on=\"cenovni_razred\").round(1).plot(kind=\"bar\")\n",
    "\n",
    "ax.set_title('Indeksi po cenovnih razredih (opis deljen s 100)')\n",
    "ax.set_xlabel('Cenovni razred')\n",
    "ax.set_ylabel('Vrednosti')\n",
    "ax"
   ]
  },
  {
   "cell_type": "markdown",
   "id": "197caf7b",
   "metadata": {},
   "source": [
    "Tukaj vidimo, da indeks rahlo pada z dolžino opisa, je pa tudi za upoštevati, da oglasi ki so imeli ceno posodobljeno, je cena nižja kot prejšnja,to pomeni, da je zato pri manjših vrednostih indeks ogledov/starost večji."
   ]
  }
 ],
 "metadata": {
  "kernelspec": {
   "display_name": "Python 3",
   "language": "python",
   "name": "python3"
  },
  "language_info": {
   "codemirror_mode": {
    "name": "ipython",
    "version": 3
   },
   "file_extension": ".py",
   "mimetype": "text/x-python",
   "name": "python",
   "nbconvert_exporter": "python",
   "pygments_lexer": "ipython3",
   "version": "3.12.4"
  }
 },
 "nbformat": 4,
 "nbformat_minor": 5
}
