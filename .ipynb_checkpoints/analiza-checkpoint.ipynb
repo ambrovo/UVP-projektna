{
 "cells": [
  {
   "cell_type": "markdown",
   "id": "606cc751",
   "metadata": {},
   "source": [
    "Analiza podatkov\n"
   ]
  },
  {
   "cell_type": "code",
   "execution_count": 77,
   "id": "dcda92e3",
   "metadata": {},
   "outputs": [],
   "source": [
    "import pandas as pd\n",
    "pd.options.display.max_rows = 20"
   ]
  },
  {
   "cell_type": "code",
   "execution_count": 78,
   "id": "48e94b8f",
   "metadata": {},
   "outputs": [],
   "source": [
    "vsi_podatki = pd.read_csv(\"tabele/bike_podatki.csv\")\n",
    "cene = vsi_podatki[\"cena\"]\n",
    "prave_cene = []\n",
    "for c in cene:\n",
    "    c = c[:-2]\n",
    "    if \".\" in c:\n",
    "        c = c.split(\".\")\n",
    "        c = c[0] + c[1]\n",
    "    try:\n",
    "        c = int(c)\n",
    "    except ValueError:\n",
    "        c = None\n",
    "    prave_cene.append(c)\n",
    "vsi_podatki[\"prava_cena\"] = prave_cene\n"
   ]
  },
  {
   "cell_type": "markdown",
   "id": "5b567c24",
   "metadata": {},
   "source": [
    "Povprečna cena po kategorijah:"
   ]
  },
  {
   "cell_type": "code",
   "execution_count": 79,
   "id": "a4557161",
   "metadata": {},
   "outputs": [
    {
     "data": {
      "text/plain": [
       "kategorija\n",
       "Downhill in Freeride kolesa     1985.55\n",
       "Enduro kolesa                   1978.20\n",
       "Trail in All-Mountain kolesa    1674.97\n",
       "Gorska kolesa                   1208.65\n",
       "Prednje vzmetena / XC kolesa     931.00\n",
       "Name: prava_cena, dtype: float64"
      ]
     },
     "execution_count": 79,
     "metadata": {},
     "output_type": "execute_result"
    }
   ],
   "source": [
    "kolesa_po_kategorijah = vsi_podatki.groupby(\"kategorija\")\n",
    "\n",
    "kolesa_po_kategorijah.prava_cena.mean().round(2).sort_values(ascending=False)\n"
   ]
  },
  {
   "cell_type": "markdown",
   "id": "6938effd",
   "metadata": {},
   "source": [
    "Povprečna cena po materialu:"
   ]
  },
  {
   "cell_type": "code",
   "execution_count": 80,
   "id": "87da86fb",
   "metadata": {},
   "outputs": [
    {
     "data": {
      "text/plain": [
       "material\n",
       "Karbon      2440.49\n",
       "Rabljeno    1800.00\n",
       "Titan       1466.67\n",
       "Aluminij    1286.60\n",
       "Jeklo        410.00\n",
       "Name: prava_cena, dtype: float64"
      ]
     },
     "execution_count": 80,
     "metadata": {},
     "output_type": "execute_result"
    }
   ],
   "source": [
    "kolesa_po_materialu = vsi_podatki.groupby(\"material\")\n",
    "kolesa_po_materialu.prava_cena.mean().round(2).sort_values(ascending=False)"
   ]
  },
  {
   "cell_type": "markdown",
   "id": "251719df",
   "metadata": {},
   "source": [
    "Povprečna cena po velikosti:"
   ]
  },
  {
   "cell_type": "code",
   "execution_count": 81,
   "id": "688d26db",
   "metadata": {},
   "outputs": [
    {
     "data": {
      "text/plain": [
       "velikost okvirja\n",
       "Na voljo v več velikostih    3940.38\n",
       "L                            1939.28\n",
       "XL                           1654.02\n",
       "XXL                          1583.00\n",
       "M                            1469.15\n",
       "Rabljeno                     1422.00\n",
       "S                            1178.12\n",
       "XXS                           970.00\n",
       "XS                            711.54\n",
       "Univerzalna velikost          289.09\n",
       "Name: prava_cena, dtype: float64"
      ]
     },
     "execution_count": 81,
     "metadata": {},
     "output_type": "execute_result"
    }
   ],
   "source": [
    "kolesa_po_velikosti = vsi_podatki.groupby(\"velikost okvirja\")\n",
    "kolesa_po_velikosti.prava_cena.mean().round(2).sort_values(ascending=False)"
   ]
  },
  {
   "cell_type": "markdown",
   "id": "80a41891",
   "metadata": {},
   "source": [
    "Povprečna cena po proizvajalcih:"
   ]
  },
  {
   "cell_type": "code",
   "execution_count": 82,
   "id": "408882fc",
   "metadata": {},
   "outputs": [
    {
     "data": {
      "text/plain": [
       "proizvajalec\n",
       "Ibis           4559.12\n",
       "Yeti           3560.00\n",
       "Intense        3500.00\n",
       "Santa Cruz     2991.36\n",
       "Pivot          2922.80\n",
       "                ...   \n",
       "Schwinn         450.00\n",
       "Nakamura        260.00\n",
       "Haibike         255.00\n",
       "Cult            255.00\n",
       "Gary Fisher     226.67\n",
       "Name: prava_cena, Length: 45, dtype: float64"
      ]
     },
     "execution_count": 82,
     "metadata": {},
     "output_type": "execute_result"
    }
   ],
   "source": [
    "kolesa_po_proizvajalcih = vsi_podatki.groupby(\"proizvajalec\")\n",
    "kolesa_po_proizvajalcih.prava_cena.mean().round(2).sort_values(ascending=False)"
   ]
  },
  {
   "cell_type": "markdown",
   "id": "b8458403",
   "metadata": {},
   "source": [
    "koliko koles je v katerem cenovnem razredu (po 500)"
   ]
  },
  {
   "cell_type": "code",
   "execution_count": 83,
   "id": "ad29a573",
   "metadata": {},
   "outputs": [
    {
     "data": {
      "text/plain": [
       "cenovni_razred\n",
       "0.0       105\n",
       "500.0     161\n",
       "1000.0    166\n",
       "1500.0    190\n",
       "2000.0     96\n",
       "2500.0     63\n",
       "3000.0     40\n",
       "3500.0     24\n",
       "4000.0     12\n",
       "4500.0      9\n",
       "5000.0      5\n",
       "5500.0      3\n",
       "6000.0      1\n",
       "6500.0      1\n",
       "7000.0      2\n",
       "dtype: int64"
      ]
     },
     "execution_count": 83,
     "metadata": {},
     "output_type": "execute_result"
    }
   ],
   "source": [
    "vsi_podatki[\"cenovni_razred\"] = (vsi_podatki[\"prava_cena\"]//500)*500\n",
    "kolesa_po_razredih = vsi_podatki.groupby(\"cenovni_razred\")\n",
    "kolesa_po_razredih.size()"
   ]
  },
  {
   "cell_type": "markdown",
   "id": "d8d00975",
   "metadata": {},
   "source": [
    "Kakšna je pa dolžina opisa, glede na cenovni razred? So opisi daljši za dražja kolesa?"
   ]
  },
  {
   "cell_type": "code",
   "execution_count": 84,
   "id": "ef47b439",
   "metadata": {},
   "outputs": [
    {
     "data": {
      "text/plain": [
       "cenovni_razred\n",
       "7000.0    2452.500000\n",
       "6500.0    1983.000000\n",
       "5500.0    1030.000000\n",
       "6000.0     977.000000\n",
       "4500.0     911.222222\n",
       "5000.0     826.400000\n",
       "3500.0     682.625000\n",
       "4000.0     634.583333\n",
       "3000.0     634.225000\n",
       "1500.0     584.205263\n",
       "2500.0     546.650794\n",
       "2000.0     513.208333\n",
       "1000.0     426.698795\n",
       "500.0      365.571429\n",
       "0.0        223.266667\n",
       "Name: dolžina opisa, dtype: float64"
      ]
     },
     "execution_count": 84,
     "metadata": {},
     "output_type": "execute_result"
    }
   ],
   "source": [
    "kolesa_po_razredih[\"dolžina opisa\"].mean().sort_values(ascending=False)"
   ]
  },
  {
   "cell_type": "markdown",
   "id": "316ba39a",
   "metadata": {},
   "source": [
    "Število ogledov povezano s ceno (ker so dragi zanimivi) ali z dolžino opisa?"
   ]
  },
  {
   "cell_type": "code",
   "execution_count": 85,
   "id": "17efdc5f",
   "metadata": {},
   "outputs": [
    {
     "data": {
      "text/plain": [
       "cenovni_razred\n",
       "6500.0    574.000000\n",
       "4000.0    396.250000\n",
       "5000.0    382.800000\n",
       "2000.0    300.166667\n",
       "3000.0    286.900000\n",
       "500.0     278.826087\n",
       "2500.0    276.301587\n",
       "1000.0    263.030120\n",
       "1500.0    236.615789\n",
       "3500.0    228.291667\n",
       "4500.0    198.333333\n",
       "7000.0    192.500000\n",
       "0.0       186.142857\n",
       "5500.0    186.000000\n",
       "6000.0    162.000000\n",
       "Name: ogledi, dtype: float64"
      ]
     },
     "execution_count": 85,
     "metadata": {},
     "output_type": "execute_result"
    }
   ],
   "source": [
    "kolesa_po_razredih.ogledi.mean().sort_values(ascending=False)"
   ]
  },
  {
   "cell_type": "code",
   "execution_count": null,
   "id": "dc618823",
   "metadata": {},
   "outputs": [],
   "source": []
  }
 ],
 "metadata": {
  "kernelspec": {
   "display_name": "Python 3",
   "language": "python",
   "name": "python3"
  },
  "language_info": {
   "codemirror_mode": {
    "name": "ipython",
    "version": 3
   },
   "file_extension": ".py",
   "mimetype": "text/x-python",
   "name": "python",
   "nbconvert_exporter": "python",
   "pygments_lexer": "ipython3",
   "version": "3.12.4"
  }
 },
 "nbformat": 4,
 "nbformat_minor": 5
}
